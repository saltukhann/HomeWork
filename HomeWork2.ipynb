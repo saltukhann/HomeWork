{
 "cells": [
  {
   "cell_type": "code",
   "execution_count": 11,
   "metadata": {},
   "outputs": [
    {
     "name": "stdout",
     "output_type": "stream",
     "text": [
      "Name : Saltukhan\n",
      "Surname : Gulsen\n",
      "Your age : 25\n",
      "Birtdate : 1995\n",
      "Welcome Saltukhan, your informations are\n",
      "Saltukhan\n",
      "Gulsen\n",
      "25\n",
      "1995\n",
      "You can go out to the street\n"
     ]
    }
   ],
   "source": [
    "name = input(\"Name : \")\n",
    "surname = input(\"Surname : \")\n",
    "age = int(input(\"Your age : \"))\n",
    "birthday = input(\"Birtdate : \")\n",
    "\n",
    "print(f'Welcome {name}, your informations are')\n",
    "\n",
    "user1List = [name, surname, age, birthday]\n",
    "for i in user1List:\n",
    "  print(i)\n",
    "\n",
    "if age > 18: \n",
    "    print(\"You can go out to the street\")\n",
    "elif age < 18: \n",
    "    print(\"You can't go out because it's too dangerous\")\n"
   ]
  },
  {
   "cell_type": "code",
   "execution_count": null,
   "metadata": {},
   "outputs": [],
   "source": []
  }
 ],
 "metadata": {
  "kernelspec": {
   "display_name": "Python 3",
   "language": "python",
   "name": "python3"
  },
  "language_info": {
   "codemirror_mode": {
    "name": "ipython",
    "version": 3
   },
   "file_extension": ".py",
   "mimetype": "text/x-python",
   "name": "python",
   "nbconvert_exporter": "python",
   "pygments_lexer": "ipython3",
   "version": "3.8.5"
  }
 },
 "nbformat": 4,
 "nbformat_minor": 4
}

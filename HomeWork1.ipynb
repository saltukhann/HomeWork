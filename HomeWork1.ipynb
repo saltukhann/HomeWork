{
 "cells": [
  {
   "cell_type": "code",
   "execution_count": 18,
   "metadata": {},
   "outputs": [
    {
     "name": "stdout",
     "output_type": "stream",
     "text": [
      "Write a number : 6\n",
      "Write a number : 5\n",
      "Write a number : 2\n",
      "Write a number : 1\n",
      "Write a number : 5\n",
      "first number: 6 , second number: 5 , third number: 2 , fourth number: 1 , fifth number: 5\n",
      "<class 'tuple'>\n",
      "<class 'int'>\n"
     ]
    }
   ],
   "source": [
    "number1 = int(input(\"Write a number : \"))\n",
    "number2 = int(input(\"Write a number : \"))\n",
    "number3 = int(input(\"Write a number : \"))\n",
    "number4 = int(input(\"Write a number : \"))\n",
    "number5 = int(input(\"Write a number : \"))\n",
    "\n",
    "AllNumber = number1, number2, number3, number4, number5\n",
    "\n",
    "\n",
    "print(f'first number: {number1}', f', second number: {number2}', f', third number: {number3}', \n",
    "      f', fourth number: {number4}', f', fifth number: {number5}') \n",
    "print(type(AllNumber))\n",
    "print(type(number1))"
   ]
  },
  {
   "cell_type": "code",
   "execution_count": null,
   "metadata": {},
   "outputs": [],
   "source": []
  }
 ],
 "metadata": {
  "kernelspec": {
   "display_name": "Python 3",
   "language": "python",
   "name": "python3"
  },
  "language_info": {
   "codemirror_mode": {
    "name": "ipython",
    "version": 3
   },
   "file_extension": ".py",
   "mimetype": "text/x-python",
   "name": "python",
   "nbconvert_exporter": "python",
   "pygments_lexer": "ipython3",
   "version": "3.8.5"
  }
 },
 "nbformat": 4,
 "nbformat_minor": 4
}
